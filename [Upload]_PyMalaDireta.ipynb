{
  "nbformat": 4,
  "nbformat_minor": 0,
  "metadata": {
    "colab": {
      "name": "[Upload] PyMalaDireta.ipynb",
      "provenance": [],
      "authorship_tag": "ABX9TyN8bLYWYv4hbDOr+IZnMalC",
      "include_colab_link": true
    },
    "kernelspec": {
      "name": "python3",
      "display_name": "Python 3"
    },
    "language_info": {
      "name": "python"
    }
  },
  "cells": [
    {
      "cell_type": "markdown",
      "metadata": {
        "id": "view-in-github",
        "colab_type": "text"
      },
      "source": [
        "<a href=\"https://colab.research.google.com/github/pycriador/PyMalaDireta/blob/main/%5BUpload%5D_PyMalaDireta.ipynb\" target=\"_parent\"><img src=\"https://colab.research.google.com/assets/colab-badge.svg\" alt=\"Open In Colab\"/></a>"
      ]
    },
    {
      "cell_type": "code",
      "source": [
        "!pip install docxtpl pandas numpy"
      ],
      "metadata": {
        "id": "p_hxICe0WrJB"
      },
      "execution_count": null,
      "outputs": []
    },
    {
      "cell_type": "code",
      "execution_count": null,
      "metadata": {
        "id": "reKTJKonV82N"
      },
      "outputs": [],
      "source": [
        "from docxtpl import DocxTemplate\n",
        "import pandas as pd\n",
        "import numpy as np\n",
        "import time\n",
        "import subprocess\n",
        "\n",
        "class appMalaDireta():\n",
        "\n",
        "    def read_template(self, templates='templates', page=None, encoding='ISO-8859-1'):\n",
        "        self.template = DocxTemplate(f\"{templates}/{page}\")\n",
        "\n",
        "    def read_xlsx(self, file=None, sheet=None):\n",
        "        xlsx = pd.ExcelFile(file)\n",
        "        return pd.read_excel(xlsx)\n",
        "\n",
        "    def create(self, page='', export_name='', templates_path='', encoding='', \n",
        "               data=pd.DataFrame(), export_docx=''):\n",
        "        for index, row in data.iterrows():\n",
        "            timestamp = int(time.time())\n",
        "            #Ler HTML como template\n",
        "            self.read_template(templates=templates_path, page=page, encoding=encoding)\n",
        "            #Se quiser mudar o nome do arquivo final com info da planilha:\n",
        "            CPF = ''.join(filter(str.isdigit, row[\"CPF\"]))\n",
        "            export_name = f'{row[\"NOME\"].upper().strip()}-{CPF}'\n",
        "            #print(f'Gerando o arquivo: {export_name}')\n",
        "            #Converter Nan em nada\n",
        "            dados = row.replace(np.nan, '', regex=True)\n",
        "            #Converter dados em string\n",
        "            dados = dados.apply(str)\n",
        "            self.template.render(dados.str.upper())\n",
        "            print(f'Gerando o DOCX: {export_docx}/{export_name}-{timestamp}.docx')\n",
        "            self.template.save(f'{export_docx}/{export_name}-{timestamp}.docx')"
      ]
    },
    {
      "cell_type": "code",
      "source": [
        "import os\n",
        "import shutil\n",
        "import glob\n",
        "\n",
        "print('Limpando arquivos antigos XLSX')\n",
        "fileList = glob.glob('*.xlsx', recursive=True)\n",
        "\n",
        "for filePath in fileList:\n",
        "    try:\n",
        "        os.remove(filePath)\n",
        "    except:\n",
        "        print(\"Erro ao remover:\", filePath)\n",
        "\n",
        "print('Limpando arquivos antigos DOCX')\n",
        "fileList = glob.glob('*.docx', recursive=True)\n",
        "\n",
        "for filePath in fileList:\n",
        "    try:\n",
        "        os.remove(filePath)\n",
        "    except:\n",
        "        print(\"Erro ao remover:\", filePath)\n",
        "\n",
        "print('Limpando arquivos antigos')\n",
        "try:\n",
        "  shutil.rmtree('arquivos')\n",
        "except Exception as e:\n",
        "  print(f'Erro: {e}')\n",
        "\n",
        "print('Limapando arquivos de exemplo')\n",
        "try:\n",
        "  shutil.rmtree('sample_data')\n",
        "except Exception as e:\n",
        "  print(f'Erro: {e}')\n",
        "\n",
        "print('Criando pasta para os arquivos')\n",
        "try:\n",
        "  os.mkdir('arquivos')\n",
        "except Exception as e:\n",
        "  print(f'Erro: {e}')"
      ],
      "metadata": {
        "id": "hbhFKwthfNUC"
      },
      "execution_count": null,
      "outputs": []
    },
    {
      "cell_type": "markdown",
      "source": [
        "Subir template XLSX com os dados"
      ],
      "metadata": {
        "id": "zX3ElSC9Xq1x"
      }
    },
    {
      "cell_type": "code",
      "source": [
        "from google.colab import files\n",
        "\n",
        "print('Escolha o arquivo com os dados em XLSX')\n",
        "ap_up = files.upload()\n",
        "\n",
        "for ap in ap_up.keys():\n",
        "  app = appMalaDireta()\n",
        "  base = app.read_xlsx(file=ap)"
      ],
      "metadata": {
        "id": "cTv_Kw6lXm3B"
      },
      "execution_count": null,
      "outputs": []
    },
    {
      "cell_type": "code",
      "source": [
        "from google.colab import files\n",
        "\n",
        "print('Escolha o arquivo com o template em DOCX')\n",
        "td_up = files.upload()\n",
        "for td_up in td_up.keys():\n",
        "  app.create(export_name='', templates_path='.', page=td_up, encoding='ISO-8859-1', data=base, export_docx='arquivos')\n",
        "\n",
        "print('Abrir o diretório \"arquivos\" e fazer download dos arquivos')"
      ],
      "metadata": {
        "id": "97Bp06lWivfi"
      },
      "execution_count": null,
      "outputs": []
    }
  ]
}