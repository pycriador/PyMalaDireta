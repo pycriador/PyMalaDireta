{
  "nbformat": 4,
  "nbformat_minor": 0,
  "metadata": {
    "colab": {
      "provenance": [],
      "include_colab_link": true
    },
    "kernelspec": {
      "name": "python3",
      "display_name": "Python 3"
    },
    "language_info": {
      "name": "python"
    }
  },
  "cells": [
    {
      "cell_type": "markdown",
      "metadata": {
        "id": "view-in-github",
        "colab_type": "text"
      },
      "source": [
        "<a href=\"https://colab.research.google.com/github/pycriador/PyMalaDireta/blob/main/%5BUpload%5D_PyMalaDireta.ipynb\" target=\"_parent\"><img src=\"https://colab.research.google.com/assets/colab-badge.svg\" alt=\"Open In Colab\"/></a>"
      ]
    },
    {
      "cell_type": "markdown",
      "source": [
        "## Projeto de Fevereiro\n",
        "\n",
        "Um programa simples para criar seus arquivos de mala direta utilizando um template em XLSX (Excel) e um documento DOCX (Word)."
      ],
      "metadata": {
        "id": "9vv5dH_sr8Yi"
      }
    },
    {
      "cell_type": "markdown",
      "source": [
        "**Primeiro**, vamos instalar as dependências do Python? Clique no Play e\n",
        "aguarde."
      ],
      "metadata": {
        "id": "-_RiPQ65sAx2"
      }
    },
    {
      "cell_type": "code",
      "source": [
        "!pip install docxtpl pandas numpy"
      ],
      "metadata": {
        "id": "p_hxICe0WrJB",
        "colab": {
          "base_uri": "https://localhost:8080/"
        },
        "outputId": "cb082f80-5915-458c-d08a-978338206bb4"
      },
      "execution_count": 71,
      "outputs": [
        {
          "output_type": "stream",
          "name": "stdout",
          "text": [
            "Looking in indexes: https://pypi.org/simple, https://us-python.pkg.dev/colab-wheels/public/simple/\n",
            "Requirement already satisfied: docxtpl in /usr/local/lib/python3.8/dist-packages (0.16.5)\n",
            "Requirement already satisfied: pandas in /usr/local/lib/python3.8/dist-packages (1.3.5)\n",
            "Requirement already satisfied: numpy in /usr/local/lib/python3.8/dist-packages (1.21.6)\n",
            "Requirement already satisfied: docxcompose in /usr/local/lib/python3.8/dist-packages (from docxtpl) (1.4.0)\n",
            "Requirement already satisfied: jinja2 in /usr/local/lib/python3.8/dist-packages (from docxtpl) (2.11.3)\n",
            "Requirement already satisfied: python-docx in /usr/local/lib/python3.8/dist-packages (from docxtpl) (0.8.11)\n",
            "Requirement already satisfied: six in /usr/local/lib/python3.8/dist-packages (from docxtpl) (1.15.0)\n",
            "Requirement already satisfied: lxml in /usr/local/lib/python3.8/dist-packages (from docxtpl) (4.9.2)\n",
            "Requirement already satisfied: pytz>=2017.3 in /usr/local/lib/python3.8/dist-packages (from pandas) (2022.7)\n",
            "Requirement already satisfied: python-dateutil>=2.7.3 in /usr/local/lib/python3.8/dist-packages (from pandas) (2.8.2)\n",
            "Requirement already satisfied: setuptools in /usr/local/lib/python3.8/dist-packages (from docxcompose->docxtpl) (57.4.0)\n",
            "Requirement already satisfied: babel in /usr/local/lib/python3.8/dist-packages (from docxcompose->docxtpl) (2.11.0)\n",
            "Requirement already satisfied: MarkupSafe>=0.23 in /usr/local/lib/python3.8/dist-packages (from jinja2->docxtpl) (2.0.1)\n"
          ]
        }
      ]
    },
    {
      "cell_type": "markdown",
      "source": [
        "Essa classe é a que vai fazer todo o trabalho, você poderá customizar alguns campos se desejar, por exemplo, a classe pega do arquivo XLSX uma coluna chamada \"Nome\" e \"CPF\", se você não tem esses campos na sua planilha, você poderá mudar o nome do arquivo final."
      ],
      "metadata": {
        "id": "YBcxwE8_sIQp"
      }
    },
    {
      "cell_type": "code",
      "execution_count": 72,
      "metadata": {
        "id": "reKTJKonV82N"
      },
      "outputs": [],
      "source": [
        "from docxtpl import DocxTemplate\n",
        "import pandas as pd\n",
        "import numpy as np\n",
        "import time\n",
        "import subprocess\n",
        "\n",
        "class appMalaDireta():\n",
        "\n",
        "    def read_template(self, templates='templates', page=None, encoding='ISO-8859-1'):\n",
        "      print('Lendo o template')\n",
        "      print(f\"{templates}//{page}\")\n",
        "      self.template = DocxTemplate(f\"{templates}//{page}\")\n",
        "\n",
        "    def read_xlsx(self, file=None, sheet=None):\n",
        "      xlsx = pd.ExcelFile(file)\n",
        "      return pd.read_excel(xlsx)\n",
        "\n",
        "    def create(self, page=None, export_name=None, templates_path=None, encoding=None, \n",
        "               data=pd.DataFrame(), export_docx=None):\n",
        "\n",
        "      for index, row in data.iterrows():\n",
        "          timestamp = int(time.time())\n",
        "          #Ler HTML como template\n",
        "          self.read_template(templates=templates_path, page=page, encoding=encoding)\n",
        "          #### Você poderá mudar o nome do arquivo final aqui\n",
        "          #### Coloque entre {row['COLUNA']} o nome da coluna do seu Excel\n",
        "          #### Se você não sabe o que fazer nessa parte, e seu arquivo não tem\n",
        "          #### uma coluna NOME e CPF, só #comente as duas próximas linhas\n",
        "          #CPF = ''.join(filter(str.isdigit, row[\"CPF\"]))\n",
        "          export_name = f'{row[\"NOME\"].upper().strip()}-{row[\"CNPJ\"]}'\n",
        "          #export_name = 'X'\n",
        "          #print(f'Gerando o arquivo: {export_name}')\n",
        "          #Converter Nan em nada\n",
        "          dados = row.replace(np.nan, '', regex=True)\n",
        "          #Converter dados em string\n",
        "          dados = dados.apply(str)\n",
        "          self.template.render(dados.str.upper())\n",
        "          print(f'Gerando o DOCX: {export_docx}/{export_name}-{timestamp}.docx')\n",
        "          self.template.save(f'{export_docx}/{export_name}-{timestamp}.docx')"
      ]
    },
    {
      "cell_type": "markdown",
      "source": [
        "Agora vamos apagar os arquivos desnecessários? Se você já executou pelo menos uma vez todo esse Notebook, então vamos ter arquivos do upload anterior. É só executar o próximo passo que eu já deleto todos os arquivos para você."
      ],
      "metadata": {
        "id": "8GLofhfSsTAQ"
      }
    },
    {
      "cell_type": "code",
      "source": [
        "import os\n",
        "import shutil\n",
        "import glob\n",
        "\n",
        "print('Limpando arquivos antigos XLSX')\n",
        "fileList = glob.glob('*.xlsx', recursive=True)\n",
        "\n",
        "for filePath in fileList:\n",
        "    try:\n",
        "        os.remove(filePath)\n",
        "    except:\n",
        "        print(\"Erro ao remover:\", filePath)\n",
        "\n",
        "print('Limpando arquivos antigos DOCX')\n",
        "fileList = glob.glob('*.docx', recursive=True)\n",
        "\n",
        "for filePath in fileList:\n",
        "    try:\n",
        "        os.remove(filePath)\n",
        "    except:\n",
        "        print(\"Erro ao remover:\", filePath)\n",
        "\n",
        "print('Limpando arquivos antigos')\n",
        "try:\n",
        "  shutil.rmtree('arquivos')\n",
        "except Exception as e:\n",
        "  print(f'Erro: {e}')\n",
        "\n",
        "print('Limpando arquivos antigos')\n",
        "try:\n",
        "  shutil.rmtree('pdf')\n",
        "except Exception as e:\n",
        "  print(f'Erro: {e}')\n",
        "\n",
        "print('Limpando templates')\n",
        "try:\n",
        "  shutil.rmtree('template')\n",
        "except Exception as e:\n",
        "  print(f'Erro: {e}')\n",
        "\n",
        "print('Limapando arquivos de exemplo')\n",
        "try:\n",
        "  shutil.rmtree('sample_data')\n",
        "except Exception as e:\n",
        "  print(f'Erro: {e}')\n",
        "\n",
        "print('Criando pasta para os arquivos')\n",
        "try:\n",
        "  os.mkdir('arquivos')\n",
        "except Exception as e:\n",
        "  print(f'Erro: {e}')\n",
        "\n",
        "print('Criando pasta para os templates')\n",
        "try:\n",
        "  os.mkdir('template')\n",
        "except Exception as e:\n",
        "  print(f'Erro: {e}')"
      ],
      "metadata": {
        "id": "hbhFKwthfNUC"
      },
      "execution_count": null,
      "outputs": []
    },
    {
      "cell_type": "markdown",
      "source": [
        "Agora chegou a hora de escolher os arquivos para mala direta. Primeiro, você escolherá o arquivo com a base de nomes, no formato XLSX."
      ],
      "metadata": {
        "id": "zX3ElSC9Xq1x"
      }
    },
    {
      "cell_type": "code",
      "source": [
        "from google.colab import files\n",
        "\n",
        "print('Escolha o arquivo com os dados em XLSX')\n",
        "ap_up = files.upload()\n",
        "app = appMalaDireta()\n",
        "\n",
        "for ap in ap_up.keys():\n",
        "  base = app.read_xlsx(file=ap)"
      ],
      "metadata": {
        "id": "cTv_Kw6lXm3B"
      },
      "execution_count": null,
      "outputs": []
    },
    {
      "cell_type": "markdown",
      "source": [
        "Agora, você escolherá o template em DOCX para a carta. Nessa parte, o próprio programa vai preencher o template com as informações da base em Excel e gerar um DOCX para cada registro.\n",
        "Não se esqueça, nesse arquivo os campos que você quer substituir com os valores do arquivo em Excel devem estar assim {{NOME}}.\n",
        "\n",
        "Ex. Na planilha está com a coluna NOME, no template onde deve aparecer o nome deve estar assim: {{NOME}}\n"
      ],
      "metadata": {
        "id": "PbNC3Wgks4O5"
      }
    },
    {
      "cell_type": "code",
      "source": [
        "from google.colab import files\n",
        "\n",
        "print('Escolha o arquivo com o template em DOCX')\n",
        "td_up = files.upload()\n",
        "\n",
        "for td_up in td_up.keys():\n",
        "  shutil.move(td_up, 'template')\n",
        "  app.create(export_name='', templates_path='template', page=td_up, encoding='ISO-8859-1', data=base, export_docx='arquivos')\n",
        "\n",
        "print('Abrir o diretório \"arquivos\" e fazer download dos arquivos')"
      ],
      "metadata": {
        "id": "97Bp06lWivfi"
      },
      "execution_count": null,
      "outputs": []
    },
    {
      "cell_type": "markdown",
      "source": [
        "Se você chegou aqui e não deu nenhum erro, então está tudo OK com os seus arquivos, criei uma pasta chamada **arquivos**, com todos os seus documentos em DOCX."
      ],
      "metadata": {
        "id": "MhbQ9xkas7-A"
      }
    },
    {
      "cell_type": "code",
      "source": [
        "import os.path\n",
        "import os\n",
        "\n",
        "if os.path.isfile('LibreOffice-7.2.5-x86_64.AppImage'):\n",
        "  print('LibreOffice Portátil já está no seu Google Drive')\n",
        "  !chmod +x LibreOffice-7.2.5-x86_64.AppImage\n",
        "else:\n",
        "  !wget https://libreoffice.soluzioniopen.com/stable/basic/LibreOffice-7.2.5-x86_64.AppImage\n",
        "  !chmod +x LibreOffice-7.2.5-x86_64.AppImage\n",
        "\n",
        "print('Limapando pasta de PDF')\n",
        "try:\n",
        "  shutil.rmtree('pdf')\n",
        "except Exception as e:\n",
        "  print(f'Erro: {e}')\n",
        "\n",
        "!mkdir pdf\n",
        "\n",
        "!./LibreOffice-7.2.5-x86_64.AppImage --headless --norestore --writer --convert-to pdf --outdir /content/pdf /content/arquivos/*.docx"
      ],
      "metadata": {
        "id": "YsAgOFp5tOZg"
      },
      "execution_count": null,
      "outputs": []
    }
  ]
}