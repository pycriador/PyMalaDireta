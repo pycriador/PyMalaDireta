{
  "nbformat": 4,
  "nbformat_minor": 0,
  "metadata": {
    "colab": {
      "name": "[Google Drive] PyMalaDireta.ipynb",
      "provenance": [],
      "collapsed_sections": [],
      "authorship_tag": "ABX9TyOd8i9PU7/gIndCyySc5IOh",
      "include_colab_link": true
    },
    "kernelspec": {
      "name": "python3",
      "display_name": "Python 3"
    },
    "language_info": {
      "name": "python"
    }
  },
  "cells": [
    {
      "cell_type": "markdown",
      "metadata": {
        "id": "view-in-github",
        "colab_type": "text"
      },
      "source": [
        "<a href=\"https://colab.research.google.com/github/pycriador/PyMalaDireta/blob/main/%5BGoogle_Drive%5D_PyMalaDireta.ipynb\" target=\"_parent\"><img src=\"https://colab.research.google.com/assets/colab-badge.svg\" alt=\"Open In Colab\"/></a>"
      ]
    },
    {
      "cell_type": "markdown",
      "source": [
        "### Projeto de Fevereiro\n",
        "\n",
        "\n",
        "Um programa simples para criar seus arquivos de mala direta utilizando um template em XLSX (Excel) e um documento DOCX (Word)."
      ],
      "metadata": {
        "id": "v9MfkSXRkLO0"
      }
    },
    {
      "cell_type": "markdown",
      "source": [
        "Primeiro, vamos instalar as dependências do Python? Clique no Play e aguarde."
      ],
      "metadata": {
        "id": "uvm0YH8tkipM"
      }
    },
    {
      "cell_type": "code",
      "source": [
        "!pip install docxtpl pandas numpy"
      ],
      "metadata": {
        "id": "WB7HqtYI29Nf"
      },
      "execution_count": null,
      "outputs": []
    },
    {
      "cell_type": "markdown",
      "source": [
        "Agora, vamos alocar o seu Google Drive para salvar os arquivos em DOCX e se você desejar, os arquivos PDF. Clique no Play, aceite o script conectar no seu Google Drive e aguarde a criação das pastas.\n",
        "\n",
        "O script vai criar uma pasta chamada docx e pdf no seu Google Drive, você pode deletar essas pastas a qualquer momento."
      ],
      "metadata": {
        "id": "dRgwqNMCkpVZ"
      }
    },
    {
      "cell_type": "code",
      "source": [
        "from google.colab import drive\n",
        "drive.mount('/content/drive', force_remount=True)\n",
        "\n",
        "#Criar diretório para exportação\n",
        "!mkdir \"/content/drive/MyDrive/docx\"\n",
        "!mkdir \"/content/drive/MyDrive/pdf\""
      ],
      "metadata": {
        "id": "dbIWw2a1nccS"
      },
      "execution_count": null,
      "outputs": []
    },
    {
      "cell_type": "markdown",
      "source": [
        "Agora vamos baixar o LibreOffice portátil. Ele será utilizado para converter os documentos DOCX em PDF. Se você não quiser converter os documentos gerados em PDF é só ignorar esse passo."
      ],
      "metadata": {
        "id": "RV1oBcjylHq1"
      }
    },
    {
      "cell_type": "code",
      "source": [
        "import os.path\n",
        "\n",
        "if os.path.isfile('/content/drive/MyDrive/LibreOffice-still.basic-x86_64.AppImage'):\n",
        "  print('LibreOffice Portátil já está no seu Google Drive')\n",
        "else:\n",
        "  !wget https://libreoffice.soluzioniopen.com/stable/still/LibreOffice-still.basic-x86_64.AppImage -P /content/drive/MyDrive\n",
        "  !chmod +x /content/drive/MyDrive/LibreOffice-still.basic-x86_64.AppImage"
      ],
      "metadata": {
        "id": "r3-dyh4-4V-5"
      },
      "execution_count": null,
      "outputs": []
    },
    {
      "cell_type": "markdown",
      "source": [
        "Esse passo é para importar uma classe que eu coloco nos meus projetos para localizar em arquivos em uma pasta. A implementação dessa classe nesse script é bem mais simples, mas ele aceita expressão regular e vários subdiretórios."
      ],
      "metadata": {
        "id": "CxI_6wbylant"
      }
    },
    {
      "cell_type": "code",
      "execution_count": null,
      "metadata": {
        "id": "Rs9yGhmcnTdL"
      },
      "outputs": [],
      "source": [
        "import os, re\n",
        "\n",
        "class appCORE():\n",
        "\n",
        "    def files(self, path, extension):\n",
        "        for file in os.listdir(path):\n",
        "            if os.path.isfile(os.path.join(path, file)):\n",
        "                if re.search(extension, file):\n",
        "                    yield file\n",
        "\n",
        "    def dir_list(self, path=None, extension=None):\n",
        "        list = []\n",
        "\n",
        "        for path_info in path:\n",
        "            dirs = self.files(path_info, extension)\n",
        "            for dir_info in dirs:\n",
        "                list.append(\"%s/%s\" % (path_info, dir_info))\n",
        "\n",
        "        return list"
      ]
    },
    {
      "cell_type": "markdown",
      "source": [
        "Essa classe é a que vai fazer todo o trabalho, você poderá customizar alguns campos se desejar, por exemplo, a classe pega do arquivo XLSX uma coluna chamada \"Nome\" e \"CPF\", se você não tem esses campos na sua planilha, você poderá mudar o nome do arquivo final."
      ],
      "metadata": {
        "id": "teiEhj6Ol7Yi"
      }
    },
    {
      "cell_type": "code",
      "source": [
        "from docxtpl import DocxTemplate\n",
        "import pandas as pd\n",
        "import numpy as np\n",
        "import time\n",
        "import subprocess\n",
        "\n",
        "class appMalaDireta():\n",
        "\n",
        "    def read_template(self, templates='templates', page=None, encoding='ISO-8859-1'):\n",
        "        self.template = DocxTemplate(f\"{templates}/{page}\")\n",
        "\n",
        "    def read_xlsx(self, file=None, sheet=None):\n",
        "        xlsx = pd.ExcelFile(file)\n",
        "        return pd.read_excel(xlsx)\n",
        "\n",
        "    def create(self, page='', export_name='', templates_path='', encoding='', \n",
        "               data=pd.DataFrame(), export_docx=''):\n",
        "        for index, row in data.iterrows():\n",
        "            timestamp = int(time.time())\n",
        "            #Ler HTML como template\n",
        "            self.read_template(templates=templates_path, page=page, encoding=encoding)\n",
        "            #### Você poderá mudar o nome do arquivo final aqui\n",
        "            #### Coloque entre {row['COLUNA']} o nome da coluna do seu Excel\n",
        "            #### Se você não sabe o que fazer nessa parte, e seu arquivo não tem\n",
        "            #### uma coluna NOME e CPF, só #comente as duas próximas linhas\n",
        "            CPF = ''.join(filter(str.isdigit, row[\"CPF\"]))\n",
        "            export_name = f'{row[\"NOME\"].upper().strip()}-{CPF}'\n",
        "            #print(f'Gerando o arquivo: {export_name}')\n",
        "            #Converter Nan em nada\n",
        "            dados = row.replace(np.nan, '', regex=True)\n",
        "            #Converter dados em string\n",
        "            dados = dados.apply(str)\n",
        "            self.template.render(dados.str.upper())\n",
        "            print(f'Gerando o DOCX: {export_docx}/{export_name}-{timestamp}.docx')\n",
        "            self.template.save(f'{export_docx}/{export_name}-{timestamp}.docx')"
      ],
      "metadata": {
        "id": "goRS0dau26LI"
      },
      "execution_count": null,
      "outputs": []
    },
    {
      "cell_type": "markdown",
      "source": [
        "Agora chegou a hora de escolher os arquivos para mala direta. Primeiro, você escolherá o arquivo com a base de nomes, no formato XLSX"
      ],
      "metadata": {
        "id": "dCXUS_SEomha"
      }
    },
    {
      "cell_type": "code",
      "source": [
        "from google.colab import files\n",
        "print('Escolha o arquivo com os dados em XLSX')\n",
        "ap_up = files.upload()\n",
        "\n",
        "for ap in ap_up.keys():\n",
        "  app = appMalaDireta()\n",
        "  base = app.read_xlsx(file=ap)"
      ],
      "metadata": {
        "id": "MIZyrPrj3HRW"
      },
      "execution_count": null,
      "outputs": []
    },
    {
      "cell_type": "markdown",
      "source": [
        "Agora, você escolherá o template em DOCX para a carta. Nessa parte, o próprio programa vai preencher o template com as informações da base em Excel e gerar um DOCX para cada registro.\n",
        "Não se esqueça, nesse arquivo os campos que você quer substituir com os valores do arquivo em Excel devem estar assim {{NOME}}.\n",
        "\n",
        "Ex. Na planilha está com a coluna NOME, no template onde deve aparecer o nome deve estar assim: {{NOME}}"
      ],
      "metadata": {
        "id": "-dRXtCGio0Bj"
      }
    },
    {
      "cell_type": "code",
      "source": [
        "print('Escolha o arquivo com o template em DOCX')\n",
        "td_up = files.upload()\n",
        "for td_up in td_up.keys():\n",
        "  app.create(export_name='', templates_path='.', page=td_up, encoding='ISO-8859-1', data=base, export_docx='/content/drive/MyDrive/docx')"
      ],
      "metadata": {
        "id": "kH_DXt7F3P5N"
      },
      "execution_count": null,
      "outputs": []
    },
    {
      "cell_type": "markdown",
      "source": [
        "Esse passo é opcional, caso você tenha baixado o LibreOffice aqui no Colab e queira salvar os documentos em PDF. Os arquivos gerados serão salvos no seu Google Drive na pasta **pdf**."
      ],
      "metadata": {
        "id": "eUfSj-V3quRB"
      }
    },
    {
      "cell_type": "code",
      "source": [
        "import subprocess\n",
        "\n",
        "app = appCORE()\n",
        "\n",
        "dir_list = []\n",
        "\n",
        "path = ['/content/drive/MyDrive/docx']\n",
        "extension = '.docx$'\n",
        "\n",
        "for path_info in path:\n",
        "    dirs = app.files(path_info, extension)\n",
        "    for dir_info in dirs:\n",
        "        dir_list.append(\"%s/%s\" % (path_info, dir_info))\n",
        "\n",
        "if len(dir_list) > 0:\n",
        "    for ffile in dir_list:\n",
        "      try:\n",
        "        subprocess.check_call([f'/content/drive/MyDrive/LibreOffice-still.basic-x86_64.AppImage', '--headless', '--norestore',\n",
        "                            '--writer', '--convert-to', 'pdf', '--outdir', '/content/drive/MyDrive/pdf', f'{ffile}'])\n",
        "      except Exception as e:\n",
        "        print(e)"
      ],
      "metadata": {
        "id": "_5mUUl2z4sE-"
      },
      "execution_count": null,
      "outputs": []
    }
  ]
}