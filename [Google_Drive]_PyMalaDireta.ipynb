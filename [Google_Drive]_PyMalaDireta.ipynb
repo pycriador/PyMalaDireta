{
  "nbformat": 4,
  "nbformat_minor": 0,
  "metadata": {
    "colab": {
      "name": "[Google Drive] PyMalaDireta.ipynb",
      "provenance": [],
      "collapsed_sections": [],
      "authorship_tag": "ABX9TyN+17w1RFhSzEDXPWBNv+JD",
      "include_colab_link": true
    },
    "kernelspec": {
      "name": "python3",
      "display_name": "Python 3"
    },
    "language_info": {
      "name": "python"
    }
  },
  "cells": [
    {
      "cell_type": "markdown",
      "metadata": {
        "id": "view-in-github",
        "colab_type": "text"
      },
      "source": [
        "<a href=\"https://colab.research.google.com/github/pycriador/PyMalaDireta/blob/main/%5BGoogle_Drive%5D_PyMalaDireta.ipynb\" target=\"_parent\"><img src=\"https://colab.research.google.com/assets/colab-badge.svg\" alt=\"Open In Colab\"/></a>"
      ]
    },
    {
      "cell_type": "code",
      "source": [
        "!pip install docxtpl pandas numpy"
      ],
      "metadata": {
        "id": "WB7HqtYI29Nf"
      },
      "execution_count": null,
      "outputs": []
    },
    {
      "cell_type": "code",
      "source": [
        "from google.colab import drive\n",
        "drive.mount('/content/drive', force_remount=True)\n",
        "\n",
        "#Criar diretório para exportação\n",
        "!mkdir \"/content/drive/MyDrive/docx\"\n",
        "!mkdir \"/content/drive/MyDrive/pdf\""
      ],
      "metadata": {
        "id": "dbIWw2a1nccS"
      },
      "execution_count": null,
      "outputs": []
    },
    {
      "cell_type": "code",
      "source": [
        "import os.path\n",
        "\n",
        "if os.path.isfile('/content/drive/MyDrive/LibreOffice-still.basic-x86_64.AppImage'):\n",
        "  print('LibreOffice Portátil já está no seu Google Drive')\n",
        "else:\n",
        "  !wget https://libreoffice.soluzioniopen.com/stable/still/LibreOffice-still.basic-x86_64.AppImage -P /content/drive/MyDrive\n",
        "  !chmod +x /content/drive/MyDrive/LibreOffice-still.basic-x86_64.AppImage"
      ],
      "metadata": {
        "id": "r3-dyh4-4V-5"
      },
      "execution_count": null,
      "outputs": []
    },
    {
      "cell_type": "code",
      "execution_count": null,
      "metadata": {
        "id": "Rs9yGhmcnTdL"
      },
      "outputs": [],
      "source": [
        "import os, re\n",
        "\n",
        "class appCORE():\n",
        "\n",
        "    def files(self, path, extension):\n",
        "        for file in os.listdir(path):\n",
        "            if os.path.isfile(os.path.join(path, file)):\n",
        "                if re.search(extension, file):\n",
        "                    yield file\n",
        "\n",
        "    def dir_list(self, path=None, extension=None):\n",
        "        list = []\n",
        "\n",
        "        for path_info in path:\n",
        "            dirs = self.files(path_info, extension)\n",
        "            for dir_info in dirs:\n",
        "                list.append(\"%s/%s\" % (path_info, dir_info))\n",
        "\n",
        "        return list"
      ]
    },
    {
      "cell_type": "code",
      "source": [
        "from docxtpl import DocxTemplate\n",
        "import pandas as pd\n",
        "import numpy as np\n",
        "import time\n",
        "import subprocess\n",
        "\n",
        "class appMalaDireta():\n",
        "\n",
        "    def read_template(self, templates='templates', page=None, encoding='ISO-8859-1'):\n",
        "        self.template = DocxTemplate(f\"{templates}/{page}\")\n",
        "\n",
        "    def read_xlsx(self, file=None, sheet=None):\n",
        "        xlsx = pd.ExcelFile(file)\n",
        "        return pd.read_excel(xlsx)\n",
        "\n",
        "    def create(self, page='', export_name='', templates_path='', encoding='', \n",
        "               data=pd.DataFrame(), export_docx=''):\n",
        "        for index, row in data.iterrows():\n",
        "            timestamp = int(time.time())\n",
        "            #Ler HTML como template\n",
        "            self.read_template(templates=templates_path, page=page, encoding=encoding)\n",
        "            #Se quiser mudar o nome do arquivo final com info da planilha:\n",
        "            CPF = ''.join(filter(str.isdigit, row[\"CPF\"]))\n",
        "            export_name = f'{row[\"NOME\"].upper().strip()}-{CPF}'\n",
        "            #print(f'Gerando o arquivo: {export_name}')\n",
        "            #Converter Nan em nada\n",
        "            dados = row.replace(np.nan, '', regex=True)\n",
        "            #Converter dados em string\n",
        "            dados = dados.apply(str)\n",
        "            self.template.render(dados.str.upper())\n",
        "            print(f'Gerando o DOCX: {export_docx}/{export_name}-{timestamp}.docx')\n",
        "            self.template.save(f'{export_docx}/{export_name}-{timestamp}.docx')"
      ],
      "metadata": {
        "id": "goRS0dau26LI"
      },
      "execution_count": null,
      "outputs": []
    },
    {
      "cell_type": "code",
      "source": [
        "from google.colab import files\n",
        "print('Escolha o arquivo com os dados em XLSX')\n",
        "ap_up = files.upload()\n",
        "\n",
        "for ap in ap_up.keys():\n",
        "  app = appMalaDireta()\n",
        "  base = app.read_xlsx(file=ap)"
      ],
      "metadata": {
        "id": "MIZyrPrj3HRW"
      },
      "execution_count": null,
      "outputs": []
    },
    {
      "cell_type": "code",
      "source": [
        "print('Escolha o arquivo com o template em DOCX')\n",
        "td_up = files.upload()\n",
        "for td_up in td_up.keys():\n",
        "  app.create(export_name='', templates_path='.', page=td_up, encoding='ISO-8859-1', data=base, export_docx='/content/drive/MyDrive/docx')"
      ],
      "metadata": {
        "id": "kH_DXt7F3P5N"
      },
      "execution_count": null,
      "outputs": []
    },
    {
      "cell_type": "code",
      "source": [
        "import subprocess\n",
        "\n",
        "app = appCORE()\n",
        "\n",
        "dir_list = []\n",
        "\n",
        "path = ['/content/drive/MyDrive/docx']\n",
        "extension = '.docx$'\n",
        "\n",
        "for path_info in path:\n",
        "    dirs = app.files(path_info, extension)\n",
        "    for dir_info in dirs:\n",
        "        dir_list.append(\"%s/%s\" % (path_info, dir_info))\n",
        "\n",
        "if len(dir_list) > 0:\n",
        "    for ffile in dir_list:\n",
        "      try:\n",
        "        subprocess.check_call([f'/content/drive/MyDrive/LibreOffice-still.basic-x86_64.AppImage', '--headless', '--norestore',\n",
        "                            '--writer', '--convert-to', 'pdf', '--outdir', '/content/drive/MyDrive/pdf', f'{ffile}'])\n",
        "      except Exception as e:\n",
        "        print(e)"
      ],
      "metadata": {
        "id": "_5mUUl2z4sE-"
      },
      "execution_count": null,
      "outputs": []
    }
  ]
}